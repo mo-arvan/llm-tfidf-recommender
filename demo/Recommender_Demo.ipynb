{
 "nbformat": 4,
 "nbformat_minor": 0,
 "metadata": {
  "colab": {
   "provenance": []
  },
  "kernelspec": {
   "name": "python3",
   "display_name": "Python 3"
  },
  "language_info": {
   "name": "python"
  }
 },
 "cells": [
  {
   "cell_type": "markdown",
   "source": [
    "# Recommender System Demo Guide\n",
    "\n",
    "<a target=\"_blank\" href=\"https://colab.research.google.com/github/mo-arvan/recommender-system/blob/main/demo/Recommender_Demo.ipynb\">\n",
    "  <img src=\"https://colab.research.google.com/assets/colab-badge.svg\" alt=\"Open In Colab\"/>\n",
    "</a>\n",
    "\n",
    "\n",
    "Reset the runtime and run all the cells. The last cell provides URL to access the interface.\n",
    "\n",
    "In order to do so, you must to copy the `External URL` and paste it as the `Endpoint IP` for localtunnel.\n",
    "\n",
    "Given a an output like below, here are the steps to achieve this.\n",
    "\n",
    "```text\n",
    "Collecting usage statistics. To deactivate, set browser.gatherUsageStats to False.\n",
    "\n",
    "\n",
    "  You can now view your Streamlit app in your browser.\n",
    "\n",
    "  Network URL: http://172.28.0.12:8501\n",
    "  External URL: http://34.125.71.154:8501\n",
    "\n",
    "npx: installed 22 in 2.446s\n",
    "your url is: https://new-heads-doubt.loca.lt\n",
    "```\n",
    "\n",
    "\n",
    "1. Copy the \"External URL\".\n",
    "2. Open `https://new-heads-doubt.loca.lt`.\n",
    "3. Paste the \"External URL\" into the \"Endpoint IP\" and press submit."
   ],
   "metadata": {
    "id": "RKYs8JGoDeVD"
   }
  },
  {
   "cell_type": "code",
   "execution_count": null,
   "metadata": {
    "id": "_PBr49v8yTwG"
   },
   "outputs": [],
   "source": [
    "! git clone https://github.com/mo-arvan/recommender-system.git\n",
    "! pip install -q --upgrade pip && \\\n",
    "    pip install -q pandas scipy numpy matplotlib seaborn spacy scikit-learn tokenizers text-generation statsmodels jinja2 krippendorff pingouin simpledorff openpyxl deepsig streamlit && \\\n",
    "    python -m spacy download en_core_web_sm && \\\n",
    "    python -m spacy download en_core_web_lg\n",
    "!npm install localtunnel\n",
    "%cd /content/recommender-system"
   ]
  },
  {
   "cell_type": "code",
   "source": [
    "!streamlit run src/offer_recommender.py &>/content/logs.txt &"
   ],
   "metadata": {
    "id": "3vbrR-CAy6Yr"
   },
   "execution_count": 14,
   "outputs": []
  },
  {
   "cell_type": "code",
   "source": [
    "!cat /content/logs.txt\n",
    "!npx localtunnel --port 8501"
   ],
   "metadata": {
    "colab": {
     "base_uri": "https://localhost:8080/"
    },
    "id": "y8s7H1Bw0TRQ",
    "outputId": "9144a93f-41f6-471e-b1c2-a0cbbeaf7ce8"
   },
   "execution_count": null,
   "outputs": [
    {
     "output_type": "stream",
     "name": "stdout",
     "text": [
      "\n",
      "Collecting usage statistics. To deactivate, set browser.gatherUsageStats to False.\n",
      "\n",
      "\n",
      "  You can now view your Streamlit app in your browser.\n",
      "\n",
      "  Network URL: http://172.28.0.12:8501\n",
      "  External URL: http://34.125.71.154:8501\n",
      "\n",
      "\u001B[K\u001B[?25hnpx: installed 22 in 2.446s\n",
      "your url is: https://new-heads-doubt.loca.lt\n"
     ]
    }
   ]
  }
 ]
}
